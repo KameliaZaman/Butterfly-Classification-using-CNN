{
 "cells": [
  {
   "cell_type": "markdown",
   "id": "8d98c086",
   "metadata": {
    "papermill": {
     "duration": 0.008914,
     "end_time": "2022-07-31T06:04:07.074740",
     "exception": false,
     "start_time": "2022-07-31T06:04:07.065826",
     "status": "completed"
    },
    "tags": []
   },
   "source": [
    "## Importing libraries"
   ]
  },
  {
   "cell_type": "code",
   "execution_count": null,
   "id": "10596cca",
   "metadata": {
    "_cell_guid": "b1076dfc-b9ad-4769-8c92-a6c4dae69d19",
    "_uuid": "8f2839f25d086af736a60e9eeb907d3b93b6e0e5",
    "execution": {
     "iopub.execute_input": "2022-07-31T06:04:07.095480Z",
     "iopub.status.busy": "2022-07-31T06:04:07.094640Z",
     "iopub.status.idle": "2022-07-31T06:04:12.845116Z",
     "shell.execute_reply": "2022-07-31T06:04:12.842509Z"
    },
    "papermill": {
     "duration": 5.763452,
     "end_time": "2022-07-31T06:04:12.847299",
     "exception": false,
     "start_time": "2022-07-31T06:04:07.083847",
     "status": "completed"
    },
    "tags": []
   },
   "outputs": [],
   "source": [
    "import pandas as pd\n",
    "import os\n",
    "import numpy as np\n",
    "import cv2\n",
    "import matplotlib.pyplot as plt\n",
    "import random\n",
    "\n",
    "#warnings\n",
    "import warnings\n",
    "warnings.filterwarnings(\"ignore\")\n",
    "\n",
    "!pip install tensorflow-addons==0.16.1\n",
    "# Libraries for TensorFlow\n",
    "import tensorflow_addons as tfa\n",
    "import tensorflow as tf\n",
    "from tensorflow.keras.utils import to_categorical\n",
    "from tensorflow.keras.preprocessing import image\n",
    "from tensorflow.keras import models, layers\n",
    "from tensorflow.keras.callbacks import ReduceLROnPlateau\n",
    "\n",
    "# Transfer Learning\n",
    "from tensorflow.keras.applications import VGG16\n",
    "from tensorflow.keras.applications.inception_v3 import InceptionV3\n",
    "from tensorflow.keras.applications import ResNet50\n",
    "from tensorflow.keras.applications import Xception\n",
    "from keras.applications.vgg16 import preprocess_input\n",
    "\n",
    "print(\"Importing libraries completed.\")"
   ]
  },
  {
   "cell_type": "markdown",
   "id": "a3dcdf62",
   "metadata": {
    "papermill": {
     "duration": 0.008927,
     "end_time": "2022-07-31T06:04:12.865712",
     "exception": false,
     "start_time": "2022-07-31T06:04:12.856785",
     "status": "completed"
    },
    "tags": []
   },
   "source": [
    "# Data Preprocessing ⚙️"
   ]
  },
  {
   "cell_type": "code",
   "execution_count": 2,
   "id": "f6fcd9db",
   "metadata": {
    "execution": {
     "iopub.execute_input": "2022-07-31T06:04:12.887078Z",
     "iopub.status.busy": "2022-07-31T06:04:12.885703Z",
     "iopub.status.idle": "2022-07-31T06:04:12.903530Z",
     "shell.execute_reply": "2022-07-31T06:04:12.902140Z"
    },
    "papermill": {
     "duration": 0.029811,
     "end_time": "2022-07-31T06:04:12.905473",
     "exception": false,
     "start_time": "2022-07-31T06:04:12.875662",
     "status": "completed"
    },
    "tags": []
   },
   "outputs": [
    {
     "name": "stdout",
     "output_type": "stream",
     "text": [
      "['Orange', 'Pineapple', 'Apple', 'Papaya', 'Dragon Fruit', 'Banana', 'Cherry', 'Mango']\n",
      "\n",
      "\n",
      "['Orange', 'Pineapple', 'Apple', 'Papaya', 'Dragon Fruit', 'Banana', 'Cherry', 'Mango']\n",
      "\n",
      "\n",
      "['Orange', 'Pineapple', 'Apple', 'Papaya', 'Dragon Fruit', 'Banana', 'Cherry', 'Mango']\n"
     ]
    }
   ],
   "source": [
    "main_folder = \"../input/even-more-fruitssssss/results/train\"\n",
    "class_names=os.listdir(main_folder)\n",
    "print(class_names)\n",
    "print(\"\\n\")\n",
    "\n",
    "validation_folder = \"../input/even-more-fruitssssss/results/val\"\n",
    "val_class_names=os.listdir(validation_folder)\n",
    "print(val_class_names)\n",
    "print(\"\\n\")\n",
    "\n",
    "test_folder = \"../input/even-more-fruitssssss/results/test\"\n",
    "test_class_names = os.listdir(validation_folder)\n",
    "print(test_class_names)"
   ]
  },
  {
   "cell_type": "code",
   "execution_count": 3,
   "id": "ee9ce481",
   "metadata": {
    "execution": {
     "iopub.execute_input": "2022-07-31T06:04:12.925650Z",
     "iopub.status.busy": "2022-07-31T06:04:12.925228Z",
     "iopub.status.idle": "2022-07-31T06:04:41.638034Z",
     "shell.execute_reply": "2022-07-31T06:04:41.636394Z"
    },
    "papermill": {
     "duration": 28.72637,
     "end_time": "2022-07-31T06:04:41.641257",
     "exception": false,
     "start_time": "2022-07-31T06:04:12.914887",
     "status": "completed"
    },
    "tags": []
   },
   "outputs": [
    {
     "name": "stdout",
     "output_type": "stream",
     "text": [
      "Preparing Training Dataset Completed.\n"
     ]
    }
   ],
   "source": [
    "x=[] # array value of the images\n",
    "y=[] # the labels of the images\n",
    "\n",
    "for folder in os.listdir(main_folder):\n",
    "    image_list=os.listdir(main_folder+\"/\"+folder)\n",
    "    for img_name in image_list:\n",
    "        # Loading images\n",
    "        img=image.load_img(main_folder+\"/\"+folder+\"/\"+img_name,target_size=(224,224))\n",
    "        img=image.img_to_array(img)\n",
    "        \n",
    "        # Transfer Learning: Preprocess of VGG16 model to our images before passing it to VGG16\n",
    "        img=preprocess_input(img)\n",
    "        \n",
    "        x.append(img) # appending image array\n",
    "        y.append(class_names.index(folder)) # appending class index to the array\n",
    "        \n",
    "print(\"Preparing Training Dataset Completed.\")"
   ]
  },
  {
   "cell_type": "code",
   "execution_count": 4,
   "id": "0d8af38b",
   "metadata": {
    "execution": {
     "iopub.execute_input": "2022-07-31T06:04:41.663665Z",
     "iopub.status.busy": "2022-07-31T06:04:41.663297Z",
     "iopub.status.idle": "2022-07-31T06:04:44.678439Z",
     "shell.execute_reply": "2022-07-31T06:04:44.677062Z"
    },
    "papermill": {
     "duration": 3.028361,
     "end_time": "2022-07-31T06:04:44.680662",
     "exception": false,
     "start_time": "2022-07-31T06:04:41.652301",
     "status": "completed"
    },
    "tags": []
   },
   "outputs": [
    {
     "name": "stdout",
     "output_type": "stream",
     "text": [
      "Preparing Validation Dataset Completed.\n"
     ]
    }
   ],
   "source": [
    "val_images=[]\n",
    "val_images_Original=[]\n",
    "val_image_label=[]\n",
    "\n",
    "for folder in os.listdir(validation_folder):\n",
    "    image_list=os.listdir(validation_folder+\"/\"+folder)\n",
    "    for img_name in image_list:\n",
    "        # Loading images\n",
    "        img=image.load_img(validation_folder+\"/\"+folder+\"/\"+img_name,target_size=(224,224))\n",
    "        \n",
    "        # Converting to arrarys\n",
    "        img=image.img_to_array(img)\n",
    "        \n",
    "        # Saving original images, will be used just for display at the end\n",
    "        val_images_Original.append(img.copy())\n",
    "        img=preprocess_input(img) \n",
    "        \n",
    "        # Appending arrays\n",
    "        val_images.append(img)\n",
    "        val_image_label.append(val_class_names.index(folder))\n",
    "        \n",
    "print(\"Preparing Validation Dataset Completed.\")"
   ]
  },
  {
   "cell_type": "code",
   "execution_count": 5,
   "id": "7c5728c1",
   "metadata": {
    "execution": {
     "iopub.execute_input": "2022-07-31T06:04:44.701416Z",
     "iopub.status.busy": "2022-07-31T06:04:44.701065Z",
     "iopub.status.idle": "2022-07-31T06:04:46.803945Z",
     "shell.execute_reply": "2022-07-31T06:04:46.802195Z"
    },
    "papermill": {
     "duration": 2.11636,
     "end_time": "2022-07-31T06:04:46.806893",
     "exception": false,
     "start_time": "2022-07-31T06:04:44.690533",
     "status": "completed"
    },
    "tags": []
   },
   "outputs": [
    {
     "name": "stdout",
     "output_type": "stream",
     "text": [
      "Preparing Test Dataset Completed.\n"
     ]
    }
   ],
   "source": [
    "val_images=[]\n",
    "val_images_Original=[]\n",
    "val_image_label=[]\n",
    "\n",
    "for folder in os.listdir(validation_folder):\n",
    "    image_list=os.listdir(validation_folder+\"/\"+folder)\n",
    "    for img_name in image_list:\n",
    "        # Loading images\n",
    "        img=image.load_img(validation_folder+\"/\"+folder+\"/\"+img_name,target_size=(224,224))\n",
    "        \n",
    "        # Converting to arrarys\n",
    "        img=image.img_to_array(img)\n",
    "        \n",
    "        # Saving original images, will be used just for display at the end\n",
    "        val_images_Original.append(img.copy())\n",
    "        img=preprocess_input(img) \n",
    "        \n",
    "        # Appending arrays\n",
    "        val_images.append(img)\n",
    "        val_image_label.append(val_class_names.index(folder))\n",
    "        \n",
    "print(\"Preparing Test Dataset Completed.\")"
   ]
  },
  {
   "cell_type": "code",
   "execution_count": 6,
   "id": "aed91dd0",
   "metadata": {
    "execution": {
     "iopub.execute_input": "2022-07-31T06:04:46.830714Z",
     "iopub.status.busy": "2022-07-31T06:04:46.829790Z",
     "iopub.status.idle": "2022-07-31T06:04:51.475144Z",
     "shell.execute_reply": "2022-07-31T06:04:51.473089Z"
    },
    "papermill": {
     "duration": 4.661124,
     "end_time": "2022-07-31T06:04:51.478258",
     "exception": false,
     "start_time": "2022-07-31T06:04:46.817134",
     "status": "completed"
    },
    "tags": []
   },
   "outputs": [
    {
     "name": "stdout",
     "output_type": "stream",
     "text": [
      "Preparing Test Dataset Completed.\n"
     ]
    }
   ],
   "source": [
    "test_images=[]\n",
    "test_images_Original=[]\n",
    "test_image_label=[]\n",
    "\n",
    "for folder in os.listdir(test_folder):\n",
    "    image_list=os.listdir(test_folder+\"/\"+folder)\n",
    "    for img_name in image_list:\n",
    "        # Loading images\n",
    "        img=image.load_img(test_folder+\"/\"+folder+\"/\"+img_name,target_size=(224,224))\n",
    "        \n",
    "        # Converting to arrarys\n",
    "        img=image.img_to_array(img)\n",
    "        \n",
    "        # Saving original images, will be used just for display at the end\n",
    "        test_images_Original.append(img.copy())\n",
    "        img=preprocess_input(img) \n",
    "        \n",
    "        # Appending arrays\n",
    "        test_images.append(img)\n",
    "        test_image_label.append(test_class_names.index(folder))\n",
    "        \n",
    "print(\"Preparing Test Dataset Completed.\")"
   ]
  },
  {
   "cell_type": "code",
   "execution_count": 7,
   "id": "dde17483",
   "metadata": {
    "execution": {
     "iopub.execute_input": "2022-07-31T06:04:51.500491Z",
     "iopub.status.busy": "2022-07-31T06:04:51.498944Z",
     "iopub.status.idle": "2022-07-31T06:04:51.882492Z",
     "shell.execute_reply": "2022-07-31T06:04:51.881364Z"
    },
    "papermill": {
     "duration": 0.39806,
     "end_time": "2022-07-31T06:04:51.886197",
     "exception": false,
     "start_time": "2022-07-31T06:04:51.488137",
     "status": "completed"
    },
    "tags": []
   },
   "outputs": [
    {
     "name": "stdout",
     "output_type": "stream",
     "text": [
      "Training Dataset\n",
      "(698, 224, 224, 3)\n",
      "(698, 8)\n",
      "Validation Dataset\n",
      "(83, 224, 224, 3)\n",
      "(83, 8)\n",
      "Test Dataset\n",
      "(95, 224, 224, 3)\n",
      "(95, 8)\n"
     ]
    }
   ],
   "source": [
    "# Training Dataset\n",
    "print(\"Training Dataset\")\n",
    "\n",
    "x=np.array(x) # Converting to np arrary to pass to the model\n",
    "print(x.shape)\n",
    "\n",
    "y=to_categorical(y) # onehot encoding of the labels\n",
    "# print(y)\n",
    "print(y.shape)\n",
    "\n",
    "# Validation Dataset\n",
    "print(\"Validation Dataset\")\n",
    "\n",
    "val_images=np.array(val_images) \n",
    "print(val_images.shape)\n",
    "\n",
    "val_image_label=to_categorical(val_image_label) # onehot encoding of the labels)\n",
    "print(val_image_label.shape)\n",
    "\n",
    "print(\"Test Dataset\")\n",
    "\n",
    "test_images=np.array(test_images) \n",
    "print(test_images.shape)\n",
    "\n",
    "test_image_label=to_categorical(test_image_label) # onehot encoding of the labels)\n",
    "print(test_image_label.shape)"
   ]
  },
  {
   "cell_type": "code",
   "execution_count": 8,
   "id": "72cf37d5",
   "metadata": {
    "execution": {
     "iopub.execute_input": "2022-07-31T06:04:51.909087Z",
     "iopub.status.busy": "2022-07-31T06:04:51.908516Z",
     "iopub.status.idle": "2022-07-31T06:04:52.774790Z",
     "shell.execute_reply": "2022-07-31T06:04:52.773382Z"
    },
    "papermill": {
     "duration": 0.879583,
     "end_time": "2022-07-31T06:04:52.777073",
     "exception": false,
     "start_time": "2022-07-31T06:04:51.897490",
     "status": "completed"
    },
    "tags": []
   },
   "outputs": [
    {
     "name": "stdout",
     "output_type": "stream",
     "text": [
      "Splitting data for train and test completed.\n"
     ]
    }
   ],
   "source": [
    "from sklearn.model_selection import train_test_split\n",
    "xtrain, xtest, ytrain, ytest = train_test_split(x,y,test_size=0.15,random_state=5)\n",
    "print(\"Splitting data for train and test completed.\")"
   ]
  },
  {
   "cell_type": "markdown",
   "id": "eb670184",
   "metadata": {
    "papermill": {
     "duration": 0.009978,
     "end_time": "2022-07-31T06:04:52.796935",
     "exception": false,
     "start_time": "2022-07-31T06:04:52.786957",
     "status": "completed"
    },
    "tags": []
   },
   "source": [
    "# Building Models 👷🏻"
   ]
  },
  {
   "cell_type": "markdown",
   "id": "887ce31c",
   "metadata": {
    "papermill": {
     "duration": 0.009811,
     "end_time": "2022-07-31T06:04:52.816523",
     "exception": false,
     "start_time": "2022-07-31T06:04:52.806712",
     "status": "completed"
    },
    "tags": []
   },
   "source": [
    "1. We intend to carry weights in the same manner as the original model did, and as a result, we are carrying weights = 'imagenet'\n",
    "1. The very first layer is known as the input layer, and it accepts image sizes equal to: (224, 224, 3). Because the sizes of our images are not the same, we need to modify the parameter in the first layer that is labelled image size. Our size will be: (224,224, 3)\n",
    "1. Due to a problem with the classification of 8 classes, we would like to change the topmost layer. Therefore, we won't be including the top layer.\n",
    "1. In addition, we will not train any of the layers beyond the last one because we need to train that one specifically. Therefore, we will set the properties for trainable to equal \"False,\" with the exception of the top layer, also known as the final layer."
   ]
  },
  {
   "cell_type": "code",
   "execution_count": 9,
   "id": "47545429",
   "metadata": {
    "execution": {
     "iopub.execute_input": "2022-07-31T06:04:52.837445Z",
     "iopub.status.busy": "2022-07-31T06:04:52.837074Z",
     "iopub.status.idle": "2022-07-31T06:04:52.844395Z",
     "shell.execute_reply": "2022-07-31T06:04:52.843535Z"
    },
    "papermill": {
     "duration": 0.020178,
     "end_time": "2022-07-31T06:04:52.846357",
     "exception": false,
     "start_time": "2022-07-31T06:04:52.826179",
     "status": "completed"
    },
    "tags": []
   },
   "outputs": [],
   "source": [
    "#Defining a custom callback function to stop training our model when accuracy goes above 99%\n",
    "class MyCallback(tf.keras.callbacks.Callback):\n",
    "    def on_epoch_end(self, epoch, logs={}):\n",
    "        if logs.get('acc') > 0.99:\n",
    "            print(\"\\nReached accuracy threshold! Terminating training.\")\n",
    "            self.model.stop_training = True\n",
    "            \n",
    "my_callback = MyCallback()\n",
    "#ReduceLROnPlateau to stabilize the training process of the model\n",
    "rop_callback = ReduceLROnPlateau(monitor=\"val_loss\", patience=3)"
   ]
  },
  {
   "cell_type": "markdown",
   "id": "2954209f",
   "metadata": {
    "papermill": {
     "duration": 0.009432,
     "end_time": "2022-07-31T06:04:52.865717",
     "exception": false,
     "start_time": "2022-07-31T06:04:52.856285",
     "status": "completed"
    },
    "tags": []
   },
   "source": [
    "**VGG16**\n",
    "\n",
    "The network is easily identifiable due to its straightforward structure, which consists of only a stack of 3x3 convolutional layers stacked atop one another, with increasing depth and volume size being managed by max-pooling layers. After that comes a softmax layer, which comes after two fully connected layers, each of which has 4096 nodes."
   ]
  },
  {
   "cell_type": "code",
   "execution_count": 10,
   "id": "904bd2e4",
   "metadata": {
    "execution": {
     "iopub.execute_input": "2022-07-31T06:04:52.886912Z",
     "iopub.status.busy": "2022-07-31T06:04:52.886173Z",
     "iopub.status.idle": "2022-07-31T06:05:00.059283Z",
     "shell.execute_reply": "2022-07-31T06:05:00.058059Z"
    },
    "papermill": {
     "duration": 7.186542,
     "end_time": "2022-07-31T06:05:00.061985",
     "exception": false,
     "start_time": "2022-07-31T06:04:52.875443",
     "status": "completed"
    },
    "tags": []
   },
   "outputs": [
    {
     "name": "stderr",
     "output_type": "stream",
     "text": [
      "2022-07-31 06:04:52.986402: I tensorflow/stream_executor/cuda/cuda_gpu_executor.cc:937] successful NUMA node read from SysFS had negative value (-1), but there must be at least one NUMA node, so returning NUMA node zero\n",
      "2022-07-31 06:04:53.096835: I tensorflow/stream_executor/cuda/cuda_gpu_executor.cc:937] successful NUMA node read from SysFS had negative value (-1), but there must be at least one NUMA node, so returning NUMA node zero\n",
      "2022-07-31 06:04:53.097669: I tensorflow/stream_executor/cuda/cuda_gpu_executor.cc:937] successful NUMA node read from SysFS had negative value (-1), but there must be at least one NUMA node, so returning NUMA node zero\n",
      "2022-07-31 06:04:53.099385: I tensorflow/core/platform/cpu_feature_guard.cc:142] This TensorFlow binary is optimized with oneAPI Deep Neural Network Library (oneDNN) to use the following CPU instructions in performance-critical operations:  AVX2 AVX512F FMA\n",
      "To enable them in other operations, rebuild TensorFlow with the appropriate compiler flags.\n",
      "2022-07-31 06:04:53.099745: I tensorflow/stream_executor/cuda/cuda_gpu_executor.cc:937] successful NUMA node read from SysFS had negative value (-1), but there must be at least one NUMA node, so returning NUMA node zero\n",
      "2022-07-31 06:04:53.100681: I tensorflow/stream_executor/cuda/cuda_gpu_executor.cc:937] successful NUMA node read from SysFS had negative value (-1), but there must be at least one NUMA node, so returning NUMA node zero\n",
      "2022-07-31 06:04:53.101564: I tensorflow/stream_executor/cuda/cuda_gpu_executor.cc:937] successful NUMA node read from SysFS had negative value (-1), but there must be at least one NUMA node, so returning NUMA node zero\n",
      "2022-07-31 06:04:55.134071: I tensorflow/stream_executor/cuda/cuda_gpu_executor.cc:937] successful NUMA node read from SysFS had negative value (-1), but there must be at least one NUMA node, so returning NUMA node zero\n",
      "2022-07-31 06:04:55.135067: I tensorflow/stream_executor/cuda/cuda_gpu_executor.cc:937] successful NUMA node read from SysFS had negative value (-1), but there must be at least one NUMA node, so returning NUMA node zero\n",
      "2022-07-31 06:04:55.135920: I tensorflow/stream_executor/cuda/cuda_gpu_executor.cc:937] successful NUMA node read from SysFS had negative value (-1), but there must be at least one NUMA node, so returning NUMA node zero\n",
      "2022-07-31 06:04:55.136708: I tensorflow/core/common_runtime/gpu/gpu_device.cc:1510] Created device /job:localhost/replica:0/task:0/device:GPU:0 with 15403 MB memory:  -> device: 0, name: Tesla P100-PCIE-16GB, pci bus id: 0000:00:04.0, compute capability: 6.0\n"
     ]
    },
    {
     "name": "stdout",
     "output_type": "stream",
     "text": [
      "Downloading data from https://storage.googleapis.com/tensorflow/keras-applications/vgg16/vgg16_weights_tf_dim_ordering_tf_kernels.h5\n",
      "553467904/553467096 [==============================] - 3s 0us/step\n",
      "553476096/553467096 [==============================] - 3s 0us/step\n",
      "Downloading data from https://storage.googleapis.com/tensorflow/keras-applications/vgg16/vgg16_weights_tf_dim_ordering_tf_kernels_notop.h5\n",
      "58892288/58889256 [==============================] - 0s 0us/step\n",
      "58900480/58889256 [==============================] - 0s 0us/step\n",
      "We are making all the layers intrainable except the last layer. \n",
      "\n"
     ]
    }
   ],
   "source": [
    "model_vgg16=VGG16(weights='imagenet')\n",
    "input_layer=layers.Input(shape=(224,224,3))\n",
    "model_vgg16=VGG16(weights='imagenet',input_tensor=input_layer,include_top=False)\n",
    "last_layer=model_vgg16.output\n",
    "flatten=layers.Flatten()(last_layer) \n",
    "output_layer=layers.Dense(8,activation='softmax')(flatten)\n",
    "model_vgg16=models.Model(inputs=input_layer,outputs=output_layer)\n",
    "\n",
    "print(\"We are making all the layers intrainable except the last layer. \\n\")\n",
    "for layer in model_vgg16.layers[:-1]:\n",
    "    layer.trainable=False"
   ]
  },
  {
   "cell_type": "code",
   "execution_count": 11,
   "id": "9ac7daa7",
   "metadata": {
    "execution": {
     "iopub.execute_input": "2022-07-31T06:05:00.091435Z",
     "iopub.status.busy": "2022-07-31T06:05:00.091134Z",
     "iopub.status.idle": "2022-07-31T06:05:00.122062Z",
     "shell.execute_reply": "2022-07-31T06:05:00.121162Z"
    },
    "papermill": {
     "duration": 0.047209,
     "end_time": "2022-07-31T06:05:00.124026",
     "exception": false,
     "start_time": "2022-07-31T06:05:00.076817",
     "status": "completed"
    },
    "tags": []
   },
   "outputs": [
    {
     "name": "stdout",
     "output_type": "stream",
     "text": [
      "Model: \"model\"\n",
      "_________________________________________________________________\n",
      "Layer (type)                 Output Shape              Param #   \n",
      "=================================================================\n",
      "input_2 (InputLayer)         [(None, 224, 224, 3)]     0         \n",
      "_________________________________________________________________\n",
      "block1_conv1 (Conv2D)        (None, 224, 224, 64)      1792      \n",
      "_________________________________________________________________\n",
      "block1_conv2 (Conv2D)        (None, 224, 224, 64)      36928     \n",
      "_________________________________________________________________\n",
      "block1_pool (MaxPooling2D)   (None, 112, 112, 64)      0         \n",
      "_________________________________________________________________\n",
      "block2_conv1 (Conv2D)        (None, 112, 112, 128)     73856     \n",
      "_________________________________________________________________\n",
      "block2_conv2 (Conv2D)        (None, 112, 112, 128)     147584    \n",
      "_________________________________________________________________\n",
      "block2_pool (MaxPooling2D)   (None, 56, 56, 128)       0         \n",
      "_________________________________________________________________\n",
      "block3_conv1 (Conv2D)        (None, 56, 56, 256)       295168    \n",
      "_________________________________________________________________\n",
      "block3_conv2 (Conv2D)        (None, 56, 56, 256)       590080    \n",
      "_________________________________________________________________\n",
      "block3_conv3 (Conv2D)        (None, 56, 56, 256)       590080    \n",
      "_________________________________________________________________\n",
      "block3_pool (MaxPooling2D)   (None, 28, 28, 256)       0         \n",
      "_________________________________________________________________\n",
      "block4_conv1 (Conv2D)        (None, 28, 28, 512)       1180160   \n",
      "_________________________________________________________________\n",
      "block4_conv2 (Conv2D)        (None, 28, 28, 512)       2359808   \n",
      "_________________________________________________________________\n",
      "block4_conv3 (Conv2D)        (None, 28, 28, 512)       2359808   \n",
      "_________________________________________________________________\n",
      "block4_pool (MaxPooling2D)   (None, 14, 14, 512)       0         \n",
      "_________________________________________________________________\n",
      "block5_conv1 (Conv2D)        (None, 14, 14, 512)       2359808   \n",
      "_________________________________________________________________\n",
      "block5_conv2 (Conv2D)        (None, 14, 14, 512)       2359808   \n",
      "_________________________________________________________________\n",
      "block5_conv3 (Conv2D)        (None, 14, 14, 512)       2359808   \n",
      "_________________________________________________________________\n",
      "block5_pool (MaxPooling2D)   (None, 7, 7, 512)         0         \n",
      "_________________________________________________________________\n",
      "flatten (Flatten)            (None, 25088)             0         \n",
      "_________________________________________________________________\n",
      "dense (Dense)                (None, 8)                 200712    \n",
      "=================================================================\n",
      "Total params: 14,915,400\n",
      "Trainable params: 200,712\n",
      "Non-trainable params: 14,714,688\n",
      "_________________________________________________________________\n"
     ]
    }
   ],
   "source": [
    "METRICS = [tf.keras.metrics.CategoricalAccuracy(name='acc'),\n",
    "           tf.keras.metrics.AUC(name='auc'),\n",
    "           tfa.metrics.F1Score(num_classes=8)]\n",
    "\n",
    "CALLBACKS = [my_callback, rop_callback]\n",
    "    \n",
    "model_vgg16.compile(optimizer='rmsprop',\n",
    "                              loss=tf.losses.CategoricalCrossentropy(),\n",
    "                              metrics=METRICS)\n",
    "model_vgg16.summary()"
   ]
  },
  {
   "cell_type": "code",
   "execution_count": 12,
   "id": "ecd52081",
   "metadata": {
    "execution": {
     "iopub.execute_input": "2022-07-31T06:05:00.152322Z",
     "iopub.status.busy": "2022-07-31T06:05:00.152036Z",
     "iopub.status.idle": "2022-07-31T06:05:21.665087Z",
     "shell.execute_reply": "2022-07-31T06:05:21.663985Z"
    },
    "papermill": {
     "duration": 21.530533,
     "end_time": "2022-07-31T06:05:21.668044",
     "exception": false,
     "start_time": "2022-07-31T06:05:00.137511",
     "status": "completed"
    },
    "tags": []
   },
   "outputs": [
    {
     "name": "stderr",
     "output_type": "stream",
     "text": [
      "2022-07-31 06:05:00.849245: I tensorflow/compiler/mlir/mlir_graph_optimization_pass.cc:185] None of the MLIR Optimization Passes are enabled (registered 2)\n"
     ]
    },
    {
     "name": "stdout",
     "output_type": "stream",
     "text": [
      "Epoch 1/100\n"
     ]
    },
    {
     "name": "stderr",
     "output_type": "stream",
     "text": [
      "2022-07-31 06:05:03.368810: I tensorflow/stream_executor/cuda/cuda_dnn.cc:369] Loaded cuDNN version 8005\n"
     ]
    },
    {
     "name": "stdout",
     "output_type": "stream",
     "text": [
      "38/38 [==============================] - 13s 88ms/step - loss: 13.6648 - acc: 0.7099 - auc: 0.8493 - f1_score: 0.6835 - val_loss: 16.5877 - val_acc: 0.7143 - val_auc: 0.8517 - val_f1_score: 0.6620\n",
      "Epoch 2/100\n",
      "38/38 [==============================] - 2s 43ms/step - loss: 1.1008 - acc: 0.9629 - auc: 0.9808 - f1_score: 0.9604 - val_loss: 6.0504 - val_acc: 0.8571 - val_auc: 0.9283 - val_f1_score: 0.8383\n",
      "Epoch 3/100\n",
      "38/38 [==============================] - 2s 44ms/step - loss: 0.4462 - acc: 0.9696 - auc: 0.9866 - f1_score: 0.9671 - val_loss: 2.7041 - val_acc: 0.8857 - val_auc: 0.9450 - val_f1_score: 0.8620\n",
      "Epoch 4/100\n",
      "38/38 [==============================] - 2s 43ms/step - loss: 0.4581 - acc: 0.9831 - auc: 0.9913 - f1_score: 0.9818 - val_loss: 8.6071 - val_acc: 0.8476 - val_auc: 0.9130 - val_f1_score: 0.8229\n",
      "Epoch 5/100\n",
      "38/38 [==============================] - 2s 43ms/step - loss: 0.5848 - acc: 0.9730 - auc: 0.9874 - f1_score: 0.9705 - val_loss: 3.8108 - val_acc: 0.8857 - val_auc: 0.9350 - val_f1_score: 0.8658\n",
      "Epoch 6/100\n",
      "38/38 [==============================] - 2s 43ms/step - loss: 0.0188 - acc: 0.9983 - auc: 0.9990 - f1_score: 0.9985 - val_loss: 3.7962 - val_acc: 0.8952 - val_auc: 0.9403 - val_f1_score: 0.8818\n",
      "\n",
      "Reached accuracy threshold! Terminating training.\n"
     ]
    }
   ],
   "source": [
    "EPOCHS = 100\n",
    "history_vgg = model_vgg16.fit(xtrain,ytrain,batch_size=16,verbose=True,validation_data=(xtest,ytest), callbacks=CALLBACKS, epochs=EPOCHS)"
   ]
  },
  {
   "cell_type": "code",
   "execution_count": 13,
   "id": "3ab1e21e",
   "metadata": {
    "execution": {
     "iopub.execute_input": "2022-07-31T06:05:21.712153Z",
     "iopub.status.busy": "2022-07-31T06:05:21.711852Z",
     "iopub.status.idle": "2022-07-31T06:05:22.152595Z",
     "shell.execute_reply": "2022-07-31T06:05:22.151656Z"
    },
    "papermill": {
     "duration": 0.46541,
     "end_time": "2022-07-31T06:05:22.155276",
     "exception": false,
     "start_time": "2022-07-31T06:05:21.689866",
     "status": "completed"
    },
    "tags": []
   },
   "outputs": [
    {
     "data": {
      "image/png": "[encoded data removed]",
      "text/plain": [
       "<Figure size 2160x360 with 3 Axes>"
      ]
     },
     "metadata": {
      "needs_background": "light"
     },
     "output_type": "display_data"
    }
   ],
   "source": [
    "fig, ax = plt.subplots(1, 3, figsize = (30, 5))\n",
    "ax = ax.ravel()\n",
    "\n",
    "for i, metric in enumerate([\"acc\", \"auc\", \"loss\"]):\n",
    "    ax[i].plot(history_vgg.history[metric])\n",
    "    ax[i].plot(history_vgg.history[\"val_\" + metric])\n",
    "    ax[i].set_title(\"Model {}\".format(metric))\n",
    "    ax[i].set_xlabel(\"Epochs\")\n",
    "    ax[i].set_ylabel(metric)\n",
    "    ax[i].legend([\"train\", \"val\"])"
   ]
  },
  {
   "cell_type": "code",
   "execution_count": 14,
   "id": "155d0039",
   "metadata": {
    "execution": {
     "iopub.execute_input": "2022-07-31T06:05:22.201825Z",
     "iopub.status.busy": "2022-07-31T06:05:22.201104Z",
     "iopub.status.idle": "2022-07-31T06:05:22.317806Z",
     "shell.execute_reply": "2022-07-31T06:05:22.316832Z"
    },
    "papermill": {
     "duration": 0.142216,
     "end_time": "2022-07-31T06:05:22.320238",
     "exception": false,
     "start_time": "2022-07-31T06:05:22.178022",
     "status": "completed"
    },
    "tags": []
   },
   "outputs": [],
   "source": [
    "model_vgg16.save(\"vgg16_model.hdf5\")"
   ]
  },
  {
   "cell_type": "markdown",
   "id": "1ce0e84b",
   "metadata": {
    "papermill": {
     "duration": 0.021717,
     "end_time": "2022-07-31T06:05:22.364018",
     "exception": false,
     "start_time": "2022-07-31T06:05:22.342301",
     "status": "completed"
    },
    "tags": []
   },
   "source": [
    "**Inception**\n",
    "\n",
    "This module's objective is to perform the function of a multi-level feature extractor by carrying out computations of 1x1, 3x3, and 5x5 convolution all within the same module of the network. After the output of these filters has been processed further, it is stacked along the channel dimension and is then fed into the subsequent layer of the network.\n",
    "\n",
    "The following components make up the architecture of this model:\n",
    "\n",
    "1. 1x1 convolution with 128 filters for dimensioning and reductions, as well as rectified linear activations\n",
    "1. A fully connected layer that has 1024 units and a linear activation that has been rectified\n",
    "1. a dropout layer with a ratio of seventy percent\n",
    "1. A linear layer with a classifier based on the softmax loss "
   ]
  },
  {
   "cell_type": "code",
   "execution_count": 15,
   "id": "d0c11bc5",
   "metadata": {
    "execution": {
     "iopub.execute_input": "2022-07-31T06:05:22.409938Z",
     "iopub.status.busy": "2022-07-31T06:05:22.409626Z",
     "iopub.status.idle": "2022-07-31T06:05:27.454587Z",
     "shell.execute_reply": "2022-07-31T06:05:27.453170Z"
    },
    "papermill": {
     "duration": 5.070063,
     "end_time": "2022-07-31T06:05:27.456706",
     "exception": false,
     "start_time": "2022-07-31T06:05:22.386643",
     "status": "completed"
    },
    "tags": []
   },
   "outputs": [
    {
     "name": "stdout",
     "output_type": "stream",
     "text": [
      "Downloading data from https://storage.googleapis.com/tensorflow/keras-applications/inception_v3/inception_v3_weights_tf_dim_ordering_tf_kernels.h5\n",
      "96116736/96112376 [==============================] - 0s 0us/step\n",
      "96124928/96112376 [==============================] - 0s 0us/step\n",
      "Downloading data from https://storage.googleapis.com/tensorflow/keras-applications/inception_v3/inception_v3_weights_tf_dim_ordering_tf_kernels_notop.h5\n",
      "87916544/87910968 [==============================] - 0s 0us/step\n",
      "87924736/87910968 [==============================] - 0s 0us/step\n",
      "We are making all the layers intrainable except the last layer. \n",
      "\n"
     ]
    }
   ],
   "source": [
    "model_inception=InceptionV3(weights='imagenet')\n",
    "input_layer=layers.Input(shape=(224,224,3))\n",
    "model_inception=InceptionV3(weights='imagenet',input_tensor=input_layer,include_top=False)\n",
    "last_layer=model_inception.output\n",
    "flatten=layers.Flatten()(last_layer) \n",
    "output_layer=layers.Dense(8,activation='softmax')(flatten)\n",
    "model_inception=models.Model(inputs=input_layer,outputs=output_layer)\n",
    "\n",
    "print(\"We are making all the layers intrainable except the last layer. \\n\")\n",
    "for layer in model_inception.layers[:-1]:\n",
    "    layer.trainable=False"
   ]
  },
  {
   "cell_type": "code",
   "execution_count": 16,
   "id": "d33f58be",
   "metadata": {
    "execution": {
     "iopub.execute_input": "2022-07-31T06:05:27.506229Z",
     "iopub.status.busy": "2022-07-31T06:05:27.505261Z",
     "iopub.status.idle": "2022-07-31T06:05:27.519017Z",
     "shell.execute_reply": "2022-07-31T06:05:27.518174Z"
    },
    "papermill": {
     "duration": 0.040639,
     "end_time": "2022-07-31T06:05:27.521012",
     "exception": false,
     "start_time": "2022-07-31T06:05:27.480373",
     "status": "completed"
    },
    "tags": []
   },
   "outputs": [],
   "source": [
    "model_inception.compile(optimizer='rmsprop',\n",
    "                              loss=tf.losses.CategoricalCrossentropy(),\n",
    "                              metrics=METRICS)"
   ]
  },
  {
   "cell_type": "code",
   "execution_count": 17,
   "id": "b322d044",
   "metadata": {
    "execution": {
     "iopub.execute_input": "2022-07-31T06:05:27.569215Z",
     "iopub.status.busy": "2022-07-31T06:05:27.568937Z",
     "iopub.status.idle": "2022-07-31T06:05:50.125398Z",
     "shell.execute_reply": "2022-07-31T06:05:50.123994Z"
    },
    "papermill": {
     "duration": 22.583534,
     "end_time": "2022-07-31T06:05:50.127773",
     "exception": false,
     "start_time": "2022-07-31T06:05:27.544239",
     "status": "completed"
    },
    "tags": []
   },
   "outputs": [
    {
     "name": "stdout",
     "output_type": "stream",
     "text": [
      "Epoch 1/100\n",
      "38/38 [==============================] - 8s 100ms/step - loss: 219.2811 - acc: 0.3309 - auc: 0.6183 - f1_score: 0.3180 - val_loss: 348.0953 - val_acc: 0.1905 - val_auc: 0.5374 - val_f1_score: 0.0968\n",
      "Epoch 2/100\n",
      "38/38 [==============================] - 1s 38ms/step - loss: 99.1176 - acc: 0.4300 - auc: 0.6762 - f1_score: 0.4180 - val_loss: 144.5994 - val_acc: 0.3810 - val_auc: 0.6474 - val_f1_score: 0.3005\n",
      "Epoch 3/100\n",
      "38/38 [==============================] - 2s 46ms/step - loss: 59.7808 - acc: 0.5531 - auc: 0.7513 - f1_score: 0.5377 - val_loss: 130.3291 - val_acc: 0.3714 - val_auc: 0.6452 - val_f1_score: 0.3175\n",
      "Epoch 4/100\n",
      "38/38 [==============================] - 2s 42ms/step - loss: 41.0855 - acc: 0.6728 - auc: 0.8199 - f1_score: 0.6730 - val_loss: 141.5430 - val_acc: 0.4000 - val_auc: 0.6618 - val_f1_score: 0.3556\n",
      "Epoch 5/100\n",
      "38/38 [==============================] - 2s 40ms/step - loss: 36.0662 - acc: 0.7049 - auc: 0.8361 - f1_score: 0.6887 - val_loss: 139.6240 - val_acc: 0.3810 - val_auc: 0.6497 - val_f1_score: 0.3503\n",
      "Epoch 6/100\n",
      "38/38 [==============================] - 2s 40ms/step - loss: 26.9246 - acc: 0.7605 - auc: 0.8685 - f1_score: 0.7564 - val_loss: 214.4527 - val_acc: 0.2762 - val_auc: 0.5934 - val_f1_score: 0.2414\n",
      "Epoch 7/100\n",
      "38/38 [==============================] - 2s 42ms/step - loss: 8.8841 - acc: 0.9191 - auc: 0.9576 - f1_score: 0.9138 - val_loss: 104.8616 - val_acc: 0.4571 - val_auc: 0.7070 - val_f1_score: 0.4297\n",
      "Epoch 8/100\n",
      "38/38 [==============================] - 1s 40ms/step - loss: 0.8048 - acc: 0.9764 - auc: 0.9904 - f1_score: 0.9786 - val_loss: 101.2691 - val_acc: 0.4476 - val_auc: 0.6927 - val_f1_score: 0.4149\n",
      "Epoch 9/100\n",
      "38/38 [==============================] - 2s 42ms/step - loss: 0.3188 - acc: 0.9848 - auc: 0.9932 - f1_score: 0.9846 - val_loss: 101.5161 - val_acc: 0.4571 - val_auc: 0.6889 - val_f1_score: 0.4242\n",
      "Epoch 10/100\n",
      "38/38 [==============================] - 2s 43ms/step - loss: 0.1111 - acc: 0.9916 - auc: 0.9963 - f1_score: 0.9922 - val_loss: 102.1223 - val_acc: 0.4476 - val_auc: 0.7077 - val_f1_score: 0.4203\n",
      "\n",
      "Reached accuracy threshold! Terminating training.\n"
     ]
    }
   ],
   "source": [
    "history_inception = model_inception.fit(xtrain,ytrain,batch_size=16,verbose=True,validation_data=(xtest,ytest), callbacks=CALLBACKS, epochs=EPOCHS)"
   ]
  },
  {
   "cell_type": "code",
   "execution_count": 18,
   "id": "cb87dff0",
   "metadata": {
    "execution": {
     "iopub.execute_input": "2022-07-31T06:05:50.202742Z",
     "iopub.status.busy": "2022-07-31T06:05:50.202410Z",
     "iopub.status.idle": "2022-07-31T06:05:50.611226Z",
     "shell.execute_reply": "2022-07-31T06:05:50.610279Z"
    },
    "papermill": {
     "duration": 0.448149,
     "end_time": "2022-07-31T06:05:50.613564",
     "exception": false,
     "start_time": "2022-07-31T06:05:50.165415",
     "status": "completed"
    },
    "tags": []
   },
   "outputs": [
    {
     "data": {
      "image/png": "[encoded data removed]",
      "text/plain": [
       "<Figure size 2160x360 with 3 Axes>"
      ]
     },
     "metadata": {
      "needs_background": "light"
     },
     "output_type": "display_data"
    }
   ],
   "source": [
    "fig, ax = plt.subplots(1, 3, figsize = (30, 5))\n",
    "ax = ax.ravel()\n",
    "\n",
    "for i, metric in enumerate([\"acc\", \"auc\", \"loss\"]):\n",
    "    ax[i].plot(history_inception.history[metric])\n",
    "    ax[i].plot(history_inception.history[\"val_\" + metric])\n",
    "    ax[i].set_title(\"Model {}\".format(metric))\n",
    "    ax[i].set_xlabel(\"Epochs\")\n",
    "    ax[i].set_ylabel(metric)\n",
    "    ax[i].legend([\"train\", \"val\"])"
   ]
  },
  {
   "cell_type": "markdown",
   "id": "2fb4bd18",
   "metadata": {
    "papermill": {
     "duration": 0.035948,
     "end_time": "2022-07-31T06:05:50.686885",
     "exception": false,
     "start_time": "2022-07-31T06:05:50.650937",
     "status": "completed"
    },
    "tags": []
   },
   "source": [
    "**ResNet50**\n",
    "\n",
    "In contrast to more conventional sequential networks like AlexNet, OverFeat, and VGG, ResNet is an example of an exotic architectural style. This style of architecture is based on microarchitecture modules, which are also referred to as networks in the architecture. The term \"microarchitecture\" refers to the collection of components that were utilised in the creation of the brand new network. "
   ]
  },
  {
   "cell_type": "code",
   "execution_count": 19,
   "id": "71e33c05",
   "metadata": {
    "execution": {
     "iopub.execute_input": "2022-07-31T06:05:50.761636Z",
     "iopub.status.busy": "2022-07-31T06:05:50.761283Z",
     "iopub.status.idle": "2022-07-31T06:05:55.177879Z",
     "shell.execute_reply": "2022-07-31T06:05:55.176740Z"
    },
    "papermill": {
     "duration": 4.457327,
     "end_time": "2022-07-31T06:05:55.180428",
     "exception": false,
     "start_time": "2022-07-31T06:05:50.723101",
     "status": "completed"
    },
    "tags": []
   },
   "outputs": [
    {
     "name": "stdout",
     "output_type": "stream",
     "text": [
      "Downloading data from https://storage.googleapis.com/tensorflow/keras-applications/resnet/resnet50_weights_tf_dim_ordering_tf_kernels.h5\n",
      "102973440/102967424 [==============================] - 1s 0us/step\n",
      "102981632/102967424 [==============================] - 1s 0us/step\n",
      "We are making all the layers intrainable except the last layer. \n",
      "\n"
     ]
    }
   ],
   "source": [
    "model_resnet=ResNet50(weights='imagenet')\n",
    "input_layer=layers.Input(shape=(224,224,3))\n",
    "model_resnet=InceptionV3(weights='imagenet',input_tensor=input_layer,include_top=False)\n",
    "last_layer=model_resnet.output\n",
    "flatten=layers.Flatten()(last_layer) \n",
    "output_layer=layers.Dense(8,activation='softmax')(flatten)\n",
    "model_resnet=models.Model(inputs=input_layer,outputs=output_layer)\n",
    "\n",
    "print(\"We are making all the layers intrainable except the last layer. \\n\")\n",
    "for layer in model_resnet.layers[:-1]:\n",
    "    layer.trainable=False"
   ]
  },
  {
   "cell_type": "code",
   "execution_count": 20,
   "id": "d55b01c9",
   "metadata": {
    "execution": {
     "iopub.execute_input": "2022-07-31T06:05:55.258167Z",
     "iopub.status.busy": "2022-07-31T06:05:55.257834Z",
     "iopub.status.idle": "2022-07-31T06:05:55.272030Z",
     "shell.execute_reply": "2022-07-31T06:05:55.271187Z"
    },
    "papermill": {
     "duration": 0.055089,
     "end_time": "2022-07-31T06:05:55.273933",
     "exception": false,
     "start_time": "2022-07-31T06:05:55.218844",
     "status": "completed"
    },
    "tags": []
   },
   "outputs": [],
   "source": [
    "model_resnet.compile(optimizer='rmsprop',\n",
    "                              loss=tf.losses.CategoricalCrossentropy(),\n",
    "                              metrics=METRICS)"
   ]
  },
  {
   "cell_type": "code",
   "execution_count": 21,
   "id": "04c1f332",
   "metadata": {
    "execution": {
     "iopub.execute_input": "2022-07-31T06:05:55.351157Z",
     "iopub.status.busy": "2022-07-31T06:05:55.350236Z",
     "iopub.status.idle": "2022-07-31T06:05:57.665569Z",
     "shell.execute_reply": "2022-07-31T06:05:57.663900Z"
    },
    "papermill": {
     "duration": 2.357691,
     "end_time": "2022-07-31T06:05:57.668667",
     "exception": false,
     "start_time": "2022-07-31T06:05:55.310976",
     "status": "completed"
    },
    "tags": []
   },
   "outputs": [
    {
     "name": "stdout",
     "output_type": "stream",
     "text": [
      "Epoch 1/100\n",
      "38/38 [==============================] - 2s 44ms/step - loss: 0.0103 - acc: 0.9966 - auc: 1.0000 - f1_score: 0.9961 - val_loss: 102.8666 - val_acc: 0.4381 - val_auc: 0.7115 - val_f1_score: 0.4099\n",
      "\n",
      "Reached accuracy threshold! Terminating training.\n"
     ]
    }
   ],
   "source": [
    "history_resnet = model_inception.fit(xtrain,ytrain,batch_size=16,verbose=True,validation_data=(xtest,ytest), callbacks=CALLBACKS, epochs=EPOCHS)"
   ]
  },
  {
   "cell_type": "markdown",
   "id": "26fa1e1c",
   "metadata": {
    "papermill": {
     "duration": 0.039689,
     "end_time": "2022-07-31T06:05:57.748565",
     "exception": false,
     "start_time": "2022-07-31T06:05:57.708876",
     "status": "completed"
    },
    "tags": []
   },
   "source": [
    "**Xception**\n",
    "\n",
    "The Xception is an extension of the architecture of Inception, and it replaces the traditional Inception model with depth-wise separable convolutions.\n",
    "A linear stack of depthwise separable convolution layers with residual connections is what Xception is."
   ]
  },
  {
   "cell_type": "code",
   "execution_count": 22,
   "id": "dcc9c0f9",
   "metadata": {
    "execution": {
     "iopub.execute_input": "2022-07-31T06:05:57.828186Z",
     "iopub.status.busy": "2022-07-31T06:05:57.827844Z",
     "iopub.status.idle": "2022-07-31T06:06:02.364109Z",
     "shell.execute_reply": "2022-07-31T06:06:02.362380Z"
    },
    "papermill": {
     "duration": 4.57832,
     "end_time": "2022-07-31T06:06:02.366185",
     "exception": false,
     "start_time": "2022-07-31T06:05:57.787865",
     "status": "completed"
    },
    "tags": []
   },
   "outputs": [
    {
     "name": "stdout",
     "output_type": "stream",
     "text": [
      "Downloading data from https://storage.googleapis.com/tensorflow/keras-applications/xception/xception_weights_tf_dim_ordering_tf_kernels.h5\n",
      "91889664/91884032 [==============================] - 1s 0us/step\n",
      "91897856/91884032 [==============================] - 1s 0us/step\n",
      "Downloading data from https://storage.googleapis.com/tensorflow/keras-applications/xception/xception_weights_tf_dim_ordering_tf_kernels_notop.h5\n",
      "83689472/83683744 [==============================] - 1s 0us/step\n",
      "83697664/83683744 [==============================] - 1s 0us/step\n",
      "We are making all the layers intrainable except the last layer. \n",
      "\n"
     ]
    }
   ],
   "source": [
    "model_xception=Xception(weights='imagenet')\n",
    "input_layer=layers.Input(shape=(224,224,3))\n",
    "model_xception=Xception(weights='imagenet',input_tensor=input_layer,include_top=False)\n",
    "last_layer=model_xception.output\n",
    "flatten=layers.Flatten()(last_layer) \n",
    "output_layer=layers.Dense(8,activation='softmax')(flatten)\n",
    "model_xception=models.Model(inputs=input_layer,outputs=output_layer)\n",
    "\n",
    "print(\"We are making all the layers intrainable except the last layer. \\n\")\n",
    "for layer in model_xception.layers[:-1]:\n",
    "    layer.trainable=False"
   ]
  },
  {
   "cell_type": "code",
   "execution_count": 23,
   "id": "edab6e48",
   "metadata": {
    "execution": {
     "iopub.execute_input": "2022-07-31T06:06:02.450031Z",
     "iopub.status.busy": "2022-07-31T06:06:02.449368Z",
     "iopub.status.idle": "2022-07-31T06:06:02.463201Z",
     "shell.execute_reply": "2022-07-31T06:06:02.462284Z"
    },
    "papermill": {
     "duration": 0.058287,
     "end_time": "2022-07-31T06:06:02.465258",
     "exception": false,
     "start_time": "2022-07-31T06:06:02.406971",
     "status": "completed"
    },
    "tags": []
   },
   "outputs": [],
   "source": [
    "model_xception.compile(optimizer='rmsprop',\n",
    "                              loss=tf.losses.CategoricalCrossentropy(),\n",
    "                              metrics=METRICS)"
   ]
  },
  {
   "cell_type": "code",
   "execution_count": 24,
   "id": "63819a66",
   "metadata": {
    "execution": {
     "iopub.execute_input": "2022-07-31T06:06:02.547571Z",
     "iopub.status.busy": "2022-07-31T06:06:02.546690Z",
     "iopub.status.idle": "2022-07-31T06:06:29.929393Z",
     "shell.execute_reply": "2022-07-31T06:06:29.927583Z"
    },
    "papermill": {
     "duration": 27.427201,
     "end_time": "2022-07-31T06:06:29.932655",
     "exception": false,
     "start_time": "2022-07-31T06:06:02.505454",
     "status": "completed"
    },
    "tags": []
   },
   "outputs": [
    {
     "name": "stdout",
     "output_type": "stream",
     "text": [
      "Epoch 1/100\n",
      "38/38 [==============================] - 6s 89ms/step - loss: 139.6512 - acc: 0.2908 - auc: 0.6062 - f1_score: 0.2746 - val_loss: 162.5524 - val_acc: 0.2190 - val_auc: 0.5619 - val_f1_score: 0.1662\n",
      "Epoch 2/100\n",
      "38/38 [==============================] - 2s 55ms/step - loss: 66.4414 - acc: 0.5025 - auc: 0.7291 - f1_score: 0.4848 - val_loss: 196.6924 - val_acc: 0.1714 - val_auc: 0.5234 - val_f1_score: 0.1623\n",
      "Epoch 3/100\n",
      "38/38 [==============================] - 2s 53ms/step - loss: 56.4624 - acc: 0.5852 - auc: 0.7726 - f1_score: 0.5699 - val_loss: 52.6561 - val_acc: 0.3810 - val_auc: 0.6600 - val_f1_score: 0.3735\n",
      "Epoch 4/100\n",
      "38/38 [==============================] - 2s 53ms/step - loss: 35.7230 - acc: 0.7015 - auc: 0.8341 - f1_score: 0.6940 - val_loss: 73.8327 - val_acc: 0.3619 - val_auc: 0.6370 - val_f1_score: 0.2837\n",
      "Epoch 5/100\n",
      "38/38 [==============================] - 2s 53ms/step - loss: 28.1004 - acc: 0.7234 - auc: 0.8513 - f1_score: 0.7089 - val_loss: 72.4851 - val_acc: 0.4857 - val_auc: 0.7142 - val_f1_score: 0.4373\n",
      "Epoch 6/100\n",
      "38/38 [==============================] - 2s 57ms/step - loss: 32.2384 - acc: 0.7352 - auc: 0.8531 - f1_score: 0.7269 - val_loss: 92.7160 - val_acc: 0.4381 - val_auc: 0.6858 - val_f1_score: 0.4035\n",
      "Epoch 7/100\n",
      "38/38 [==============================] - 2s 55ms/step - loss: 7.4146 - acc: 0.9056 - auc: 0.9515 - f1_score: 0.9009 - val_loss: 53.2125 - val_acc: 0.4952 - val_auc: 0.7299 - val_f1_score: 0.4743\n",
      "Epoch 8/100\n",
      "38/38 [==============================] - 2s 53ms/step - loss: 1.6719 - acc: 0.9646 - auc: 0.9837 - f1_score: 0.9607 - val_loss: 50.6581 - val_acc: 0.5429 - val_auc: 0.7360 - val_f1_score: 0.5129\n",
      "Epoch 9/100\n",
      "38/38 [==============================] - 2s 53ms/step - loss: 0.9405 - acc: 0.9781 - auc: 0.9875 - f1_score: 0.9762 - val_loss: 53.4631 - val_acc: 0.5238 - val_auc: 0.7351 - val_f1_score: 0.4966\n",
      "Epoch 10/100\n",
      "38/38 [==============================] - 2s 53ms/step - loss: 0.3520 - acc: 0.9798 - auc: 0.9884 - f1_score: 0.9784 - val_loss: 50.8708 - val_acc: 0.4762 - val_auc: 0.6999 - val_f1_score: 0.4541\n",
      "Epoch 11/100\n",
      "38/38 [==============================] - 2s 53ms/step - loss: 0.0996 - acc: 0.9933 - auc: 0.9971 - f1_score: 0.9924 - val_loss: 49.7637 - val_acc: 0.5143 - val_auc: 0.7357 - val_f1_score: 0.4935\n",
      "\n",
      "Reached accuracy threshold! Terminating training.\n"
     ]
    }
   ],
   "source": [
    "history_resnet = model_xception.fit(xtrain,ytrain,batch_size=16,verbose=True,validation_data=(xtest,ytest), callbacks=CALLBACKS, epochs=EPOCHS)"
   ]
  },
  {
   "cell_type": "code",
   "execution_count": 25,
   "id": "c4f6d27d",
   "metadata": {
    "execution": {
     "iopub.execute_input": "2022-07-31T06:06:30.048253Z",
     "iopub.status.busy": "2022-07-31T06:06:30.047885Z",
     "iopub.status.idle": "2022-07-31T06:06:30.058239Z",
     "shell.execute_reply": "2022-07-31T06:06:30.057355Z"
    },
    "papermill": {
     "duration": 0.069928,
     "end_time": "2022-07-31T06:06:30.060186",
     "exception": false,
     "start_time": "2022-07-31T06:06:29.990258",
     "status": "completed"
    },
    "tags": []
   },
   "outputs": [],
   "source": [
    "def predict(img_name, model):\n",
    "    img=image.load_img(img_name,target_size=(224,224))\n",
    "    img=image.img_to_array(img)\n",
    "    plt.imshow(img.astype('int32'))\n",
    "    plt.show()\n",
    "    img=preprocess_input(img)\n",
    "    prediction=model.predict(img.reshape(1,224,224,3))\n",
    "    output=np.argmax(prediction)\n",
    "    print(class_names[output])\n",
    "\n",
    "\n",
    "# This function plots the image supplied in array\n",
    "def plot_image(i, predictions_array, true_label, img):\n",
    "    predictions_array, true_label, img = predictions_array[i], true_label[i], img[i]\n",
    "    plt.grid(False)\n",
    "    plt.xticks([])\n",
    "    plt.yticks([])\n",
    "    plt.imshow(img.astype('int32'))\n",
    "    predicted_label=np.argmax(predictions_array)\n",
    "    true_label=np.argmax(true_label)"
   ]
  },
  {
   "cell_type": "markdown",
   "id": "044a9472",
   "metadata": {
    "papermill": {
     "duration": 0.054634,
     "end_time": "2022-07-31T06:06:30.169654",
     "exception": false,
     "start_time": "2022-07-31T06:06:30.115020",
     "status": "completed"
    },
    "tags": []
   },
   "source": [
    "# Testing 🧪"
   ]
  },
  {
   "cell_type": "code",
   "execution_count": 26,
   "id": "1df2efa8",
   "metadata": {
    "execution": {
     "iopub.execute_input": "2022-07-31T06:06:30.288279Z",
     "iopub.status.busy": "2022-07-31T06:06:30.287389Z",
     "iopub.status.idle": "2022-07-31T06:06:34.774626Z",
     "shell.execute_reply": "2022-07-31T06:06:34.773606Z"
    },
    "papermill": {
     "duration": 4.547468,
     "end_time": "2022-07-31T06:06:34.777435",
     "exception": false,
     "start_time": "2022-07-31T06:06:30.229967",
     "status": "completed"
    },
    "tags": []
   },
   "outputs": [],
   "source": [
    "# Preparing prediction arrary\n",
    "predictions=[]\n",
    "\n",
    "for img in test_images:\n",
    "    img=img.reshape(1,224,224,3)\n",
    "    predictions.append(model_vgg16.predict(img))"
   ]
  },
  {
   "cell_type": "code",
   "execution_count": 27,
   "id": "48e93c1c",
   "metadata": {
    "execution": {
     "iopub.execute_input": "2022-07-31T06:06:34.888985Z",
     "iopub.status.busy": "2022-07-31T06:06:34.888653Z",
     "iopub.status.idle": "2022-07-31T06:06:45.251349Z",
     "shell.execute_reply": "2022-07-31T06:06:45.250336Z"
    },
    "papermill": {
     "duration": 10.420809,
     "end_time": "2022-07-31T06:06:45.253891",
     "exception": false,
     "start_time": "2022-07-31T06:06:34.833082",
     "status": "completed"
    },
    "tags": []
   },
   "outputs": [],
   "source": [
    "pred_labels = model_vgg16.predict(test_images)"
   ]
  },
  {
   "cell_type": "code",
   "execution_count": 28,
   "id": "acb3f4be",
   "metadata": {
    "execution": {
     "iopub.execute_input": "2022-07-31T06:06:45.365555Z",
     "iopub.status.busy": "2022-07-31T06:06:45.364698Z",
     "iopub.status.idle": "2022-07-31T06:06:45.389725Z",
     "shell.execute_reply": "2022-07-31T06:06:45.388684Z"
    },
    "papermill": {
     "duration": 0.084091,
     "end_time": "2022-07-31T06:06:45.393251",
     "exception": false,
     "start_time": "2022-07-31T06:06:45.309160",
     "status": "completed"
    },
    "tags": []
   },
   "outputs": [
    {
     "name": "stdout",
     "output_type": "stream",
     "text": [
      "              precision    recall  f1-score   support\n",
      "\n",
      "      Orange       0.93      1.00      0.96        13\n",
      "   Pineapple       1.00      0.92      0.96        12\n",
      "       Apple       1.00      0.92      0.96        13\n",
      "      Papaya       0.67      0.86      0.75         7\n",
      "Dragon Fruit       0.92      0.86      0.89        14\n",
      "      Banana       1.00      1.00      1.00        13\n",
      "      Cherry       0.85      0.85      0.85        13\n",
      "       Mango       0.80      0.80      0.80        10\n",
      "\n",
      "   micro avg       0.91      0.91      0.91        95\n",
      "   macro avg       0.90      0.90      0.90        95\n",
      "weighted avg       0.91      0.91      0.91        95\n",
      " samples avg       0.91      0.91      0.91        95\n",
      "\n"
     ]
    }
   ],
   "source": [
    "from sklearn.metrics import classification_report, confusion_matrix\n",
    "def roundoff(arr):\n",
    "    \"\"\"To round off according to the argmax of each predicted label array. \"\"\"\n",
    "    arr[np.argwhere(arr != arr.max())] = 0\n",
    "    arr[np.argwhere(arr == arr.max())] = 1\n",
    "    return arr\n",
    "\n",
    "for labels in pred_labels:\n",
    "    labels = roundoff(labels)\n",
    "\n",
    "print(classification_report(test_image_label, pred_labels, target_names=test_class_names))"
   ]
  },
  {
   "cell_type": "code",
   "execution_count": 29,
   "id": "65793ef0",
   "metadata": {
    "execution": {
     "iopub.execute_input": "2022-07-31T06:06:45.506061Z",
     "iopub.status.busy": "2022-07-31T06:06:45.505451Z",
     "iopub.status.idle": "2022-07-31T06:06:46.083545Z",
     "shell.execute_reply": "2022-07-31T06:06:46.082565Z"
    },
    "papermill": {
     "duration": 0.636906,
     "end_time": "2022-07-31T06:06:46.085680",
     "exception": false,
     "start_time": "2022-07-31T06:06:45.448774",
     "status": "completed"
    },
    "tags": []
   },
   "outputs": [
    {
     "data": {
      "image/png": "[encoded data removed]",
      "text/plain": [
       "<Figure size 640x480 with 2 Axes>"
      ]
     },
     "metadata": {},
     "output_type": "display_data"
    }
   ],
   "source": [
    "import seaborn as sns\n",
    "pred_ls = np.argmax(pred_labels, axis=1)\n",
    "test_ls = np.argmax(test_image_label, axis=1)\n",
    "\n",
    "conf_arr = confusion_matrix(test_ls, pred_ls)\n",
    "\n",
    "plt.figure(figsize=(8, 6), dpi=80, facecolor='w', edgecolor='k')\n",
    "\n",
    "ax = sns.heatmap(conf_arr, cmap='Greens', annot=True, fmt='d', xticklabels= test_class_names,\n",
    "                yticklabels=test_class_names)\n",
    "\n",
    "plt.title('Fruitssssss')\n",
    "plt.xlabel('Prediction')\n",
    "plt.ylabel('Truth')\n",
    "plt.show(ax)"
   ]
  },
  {
   "cell_type": "code",
   "execution_count": 30,
   "id": "1fe630a8",
   "metadata": {
    "execution": {
     "iopub.execute_input": "2022-07-31T06:06:46.198379Z",
     "iopub.status.busy": "2022-07-31T06:06:46.197377Z",
     "iopub.status.idle": "2022-07-31T06:06:46.451471Z",
     "shell.execute_reply": "2022-07-31T06:06:46.450373Z"
    },
    "papermill": {
     "duration": 0.312347,
     "end_time": "2022-07-31T06:06:46.453542",
     "exception": false,
     "start_time": "2022-07-31T06:06:46.141195",
     "status": "completed"
    },
    "tags": []
   },
   "outputs": [
    {
     "data": {
      "image/png": "[encoded data removed]",
      "text/plain": [
       "<Figure size 432x288 with 1 Axes>"
      ]
     },
     "metadata": {
      "needs_background": "light"
     },
     "output_type": "display_data"
    },
    {
     "name": "stdout",
     "output_type": "stream",
     "text": [
      "Apple\n"
     ]
    }
   ],
   "source": [
    "predict(\"../input/even-more-fruitssssss/results/test/Apple/Image_240.jpg\",model_vgg16)"
   ]
  },
  {
   "cell_type": "markdown",
   "id": "29c374e0",
   "metadata": {
    "papermill": {
     "duration": 0.057965,
     "end_time": "2022-07-31T06:06:46.569601",
     "exception": false,
     "start_time": "2022-07-31T06:06:46.511636",
     "status": "completed"
    },
    "tags": []
   },
   "source": [
    "# Deployment 🕸"
   ]
  },
  {
   "cell_type": "code",
   "execution_count": 31,
   "id": "f768681f",
   "metadata": {
    "execution": {
     "iopub.execute_input": "2022-07-31T06:06:46.686647Z",
     "iopub.status.busy": "2022-07-31T06:06:46.686280Z",
     "iopub.status.idle": "2022-07-31T06:07:07.378763Z",
     "shell.execute_reply": "2022-07-31T06:07:07.377562Z"
    },
    "papermill": {
     "duration": 20.753729,
     "end_time": "2022-07-31T06:07:07.380980",
     "exception": false,
     "start_time": "2022-07-31T06:06:46.627251",
     "status": "completed"
    },
    "tags": []
   },
   "outputs": [
    {
     "name": "stdout",
     "output_type": "stream",
     "text": [
      "\u001b[33mWARNING: Running pip as the 'root' user can result in broken permissions and conflicting behaviour with the system package manager. It is recommended to use a virtual environment instead: https://pip.pypa.io/warnings/venv\u001b[0m\u001b[33m\r\n",
      "\u001b[0m"
     ]
    }
   ],
   "source": [
    "!pip install gradio -q"
   ]
  },
  {
   "cell_type": "code",
   "execution_count": 32,
   "id": "5ec03b6b",
   "metadata": {
    "execution": {
     "iopub.execute_input": "2022-07-31T06:07:07.499678Z",
     "iopub.status.busy": "2022-07-31T06:07:07.499297Z",
     "iopub.status.idle": "2022-07-31T06:07:16.665230Z",
     "shell.execute_reply": "2022-07-31T06:07:16.664202Z"
    },
    "papermill": {
     "duration": 9.228932,
     "end_time": "2022-07-31T06:07:16.667974",
     "exception": false,
     "start_time": "2022-07-31T06:07:07.439042",
     "status": "completed"
    },
    "tags": []
   },
   "outputs": [
    {
     "name": "stdout",
     "output_type": "stream",
     "text": [
      "Running on local URL:  http://127.0.0.1:7860/\n",
      "Running on public URL: https://17904.gradio.app\n",
      "\n",
      "This share link expires in 72 hours. For free permanent hosting, check out Spaces: https://huggingface.co/spaces\n"
     ]
    },
    {
     "data": {
      "text/html": [
       "<div><iframe src=\"https://17904.gradio.app\" width=\"900\" height=\"500\" allow=\"autoplay; camera; microphone;\" frameborder=\"0\" allowfullscreen></iframe></div>"
      ],
      "text/plain": [
       "<IPython.core.display.HTML object>"
      ]
     },
     "metadata": {},
     "output_type": "display_data"
    },
    {
     "data": {
      "text/plain": [
       "(<gradio.routes.App at 0x7f419a409390>,\n",
       " 'http://127.0.0.1:7860/',\n",
       " 'https://17904.gradio.app')"
      ]
     },
     "execution_count": 32,
     "metadata": {},
     "output_type": "execute_result"
    }
   ],
   "source": [
    "import gradio as gr\n",
    "model = tf.keras.models.load_model(\"./vgg16_model.hdf5\")\n",
    "def classify_image(inp):\n",
    "    inp = inp.reshape((-1,224, 224, 3))\n",
    "    prediction = model.predict(inp)\n",
    "    return class_names[int(np.argmax(prediction,axis=1))]\n",
    "\n",
    "gr.Interface(fn=classify_image, \n",
    "             inputs=gr.Image(shape=(224, 224)),\n",
    "             outputs=\"text\").launch(share=True)"
   ]
  },
  {
   "cell_type": "markdown",
   "id": "97694a89",
   "metadata": {
    "papermill": {
     "duration": 0.057977,
     "end_time": "2022-07-31T06:07:16.819724",
     "exception": false,
     "start_time": "2022-07-31T06:07:16.761747",
     "status": "completed"
    },
    "tags": []
   },
   "source": [
    "# References📕\n",
    "\n",
    "**Articles and Papers**\n",
    "\n",
    "1. A comparision of the transfer learning algorithms in terms of features and architectures https://analyticsindiamag.com/a-comparison-of-4-popular-transfer-learning-models/\n",
    "2. Inception introduced by Szegedy in 2014 in their paper \"Going deeper with convolution\" https://arxiv.org/abs/1409.4842\n",
    "3. Xception: Deep Learning with Depthwise Separable Convolutions by Francois Chollet the creator and maintainer of the Keras library. https://arxiv.org/pdf/1610.02357.pdf\n",
    "4. VGG16: Very deep convolutional networks for large scale image recognition by by Zisserman and Simonyan https://arxiv.org/pdf/1409.1556.pdf\n",
    "5. Identity Mappings in Deep Residual Networks by Kaiming He in 2015 https://arxiv.org/pdf/1603.05027.pdf\n",
    "\n",
    "**Notebooks**\n",
    "\n",
    "1. Monkey Species Image Classification Transfer VGG16 https://www.kaggle.com/code/viratkothari/monkey-species-image-classification-transfer-vgg16\n",
    "2. Alzheimer's Disease Classification - InceptionV3 https://www.kaggle.com/code/vishakansubramanian/alzheimer-s-disease-classification-inceptionv3/notebook\n",
    "3. Simple resnet baseline (PyTorch) - https://www.kaggle.com/code/nekokiku/simple-resnet-baseline\n",
    "\n",
    "Transfer Learning | Deep Learning Tutorial 27 (Tensorflow, Keras & Python) by codebasics https://www.youtube.com/watch?v=LsdxvjLWkIY "
   ]
  }
 ],
 "metadata": {
  "kernelspec": {
   "display_name": "Python 3 (ipykernel)",
   "language": "python",
   "name": "python3"
  },
  "language_info": {
   "codemirror_mode": {
    "name": "ipython",
    "version": 3
   },
   "file_extension": ".py",
   "mimetype": "text/x-python",
   "name": "python",
   "nbconvert_exporter": "python",
   "pygments_lexer": "ipython3",
   "version": "3.9.18"
  },
  "papermill": {
   "default_parameters": {},
   "duration": 201.437494,
   "end_time": "2022-07-31T06:07:20.476539",
   "environment_variables": {},
   "exception": null,
   "input_path": "__notebook__.ipynb",
   "output_path": "__notebook__.ipynb",
   "parameters": {},
   "start_time": "2022-07-31T06:03:59.039045",
   "version": "2.3.4"
  }
 },
 "nbformat": 4,
 "nbformat_minor": 5
}
